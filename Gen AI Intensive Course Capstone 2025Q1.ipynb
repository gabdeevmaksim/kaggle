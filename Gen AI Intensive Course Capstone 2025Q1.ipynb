{
 "cells": [
  {
   "cell_type": "markdown",
   "id": "c36d7ec1",
   "metadata": {
    "id": "ZrE2lTyXSMmz",
    "papermill": {
     "duration": 0.006593,
     "end_time": "2025-04-20T17:14:03.411412",
     "exception": false,
     "start_time": "2025-04-20T17:14:03.404819",
     "status": "completed"
    },
    "tags": []
   },
   "source": [
    "## Setup\n",
    "\n",
    "Install the Python SDK."
   ]
  },
  {
   "cell_type": "code",
   "execution_count": 1,
   "id": "e206cda4",
   "metadata": {
    "execution": {
     "iopub.execute_input": "2025-04-20T17:14:03.424532Z",
     "iopub.status.busy": "2025-04-20T17:14:03.424106Z",
     "iopub.status.idle": "2025-04-20T17:14:03.438476Z",
     "shell.execute_reply": "2025-04-20T17:14:03.437524Z"
    },
    "papermill": {
     "duration": 0.022971,
     "end_time": "2025-04-20T17:14:03.440223",
     "exception": false,
     "start_time": "2025-04-20T17:14:03.417252",
     "status": "completed"
    },
    "tags": []
   },
   "outputs": [],
   "source": [
    "from kaggle_secrets import UserSecretsClient"
   ]
  },
  {
   "cell_type": "code",
   "execution_count": 2,
   "id": "849d4753",
   "metadata": {
    "execution": {
     "iopub.execute_input": "2025-04-20T17:14:03.453383Z",
     "iopub.status.busy": "2025-04-20T17:14:03.453085Z",
     "iopub.status.idle": "2025-04-20T17:14:03.815432Z",
     "shell.execute_reply": "2025-04-20T17:14:03.814439Z"
    },
    "papermill": {
     "duration": 0.371266,
     "end_time": "2025-04-20T17:14:03.817602",
     "exception": false,
     "start_time": "2025-04-20T17:14:03.446336",
     "status": "completed"
    },
    "tags": []
   },
   "outputs": [
    {
     "name": "stdout",
     "output_type": "stream",
     "text": [
      "Directory 'resuming_table' created.\n"
     ]
    }
   ],
   "source": [
    "import requests\n",
    "import os\n",
    "import csv\n",
    "import time\n",
    "\n",
    "ADS_API_TOKEN = UserSecretsClient().get_secret(\"ADS_API_TOKEN\")  # Retrieve the API token from the environment variable\n",
    "OBJECT_NAME = \"V808 Aur\"  # Replace with your file name\n",
    "DOWNLOAD_DIR = \"resuming_table\"  # Directory to save PDFs\n",
    "\n",
    "if not os.path.exists(DOWNLOAD_DIR):\n",
    "    os.makedirs(DOWNLOAD_DIR)  # Create the directory if it doesn't exist\n",
    "    print(f\"Directory '{DOWNLOAD_DIR}' created.\")\n",
    "else:\n",
    "    print(f\"Directory '{DOWNLOAD_DIR}' already exists.\")"
   ]
  },
  {
   "cell_type": "markdown",
   "id": "bd28ca0f",
   "metadata": {
    "papermill": {
     "duration": 0.006723,
     "end_time": "2025-04-20T17:14:03.834533",
     "exception": false,
     "start_time": "2025-04-20T17:14:03.827810",
     "status": "completed"
    },
    "tags": []
   },
   "source": [
    "Next fuction ***query_ads_api_by_bibcode*** searches a paper by a bibcode, it was made for tests."
   ]
  },
  {
   "cell_type": "code",
   "execution_count": 3,
   "id": "4d474055",
   "metadata": {
    "execution": {
     "iopub.execute_input": "2025-04-20T17:14:03.851038Z",
     "iopub.status.busy": "2025-04-20T17:14:03.850676Z",
     "iopub.status.idle": "2025-04-20T17:14:03.858481Z",
     "shell.execute_reply": "2025-04-20T17:14:03.857353Z"
    },
    "papermill": {
     "duration": 0.019318,
     "end_time": "2025-04-20T17:14:03.860194",
     "exception": false,
     "start_time": "2025-04-20T17:14:03.840876",
     "status": "completed"
    },
    "tags": []
   },
   "outputs": [],
   "source": [
    "def query_ads_api_by_bibcode(bibcode):\n",
    "    headers = {\"Authorization\": f\"Bearer {ADS_API_TOKEN}\"}\n",
    "    # Query directly for the bibcode\n",
    "    query = f\"bibcode:{bibcode}\"\n",
    "    # Request all fields for detailed inspection\n",
    "    params = {\"q\": query, \"fl\": \"*\"}\n",
    "\n",
    "    try:\n",
    "        response = requests.get(\"https://api.adsabs.harvard.edu/v1/search/query\", headers=headers, params=params)\n",
    "        time.sleep(1)  # Add a 1-second delay to avoid overloading the server\n",
    "\n",
    "        if response.status_code == 200:\n",
    "            api_response = response.json()\n",
    "\n",
    "            # Print the entire response to inspect its structure\n",
    "            print(\"Full API Response:\")\n",
    "            print(json.dumps(api_response, indent=4))  # Use json.dumps for pretty printing\n",
    "\n",
    "            return api_response\n",
    "        else:\n",
    "            print(f\"Error: ADS API request failed with status code {response.status_code}\")\n",
    "            return None\n",
    "    except requests.exceptions.RequestException as e:\n",
    "        print(f\"Error: Failed to query ADS API: {e}\")\n",
    "        return None"
   ]
  },
  {
   "cell_type": "markdown",
   "id": "d194ef67",
   "metadata": {
    "papermill": {
     "duration": 0.007166,
     "end_time": "2025-04-20T17:14:03.877159",
     "exception": false,
     "start_time": "2025-04-20T17:14:03.869993",
     "status": "completed"
    },
    "tags": []
   },
   "source": [
    "Function ***query_ads_api_by_name*** searches all papers for an object and choses only neccesary fields mentioned in ***params:fl***"
   ]
  },
  {
   "cell_type": "code",
   "execution_count": 4,
   "id": "a22d95e0",
   "metadata": {
    "execution": {
     "iopub.execute_input": "2025-04-20T17:14:03.891483Z",
     "iopub.status.busy": "2025-04-20T17:14:03.891098Z",
     "iopub.status.idle": "2025-04-20T17:14:04.448563Z",
     "shell.execute_reply": "2025-04-20T17:14:04.447288Z"
    },
    "papermill": {
     "duration": 0.567204,
     "end_time": "2025-04-20T17:14:04.450655",
     "exception": false,
     "start_time": "2025-04-20T17:14:03.883451",
     "status": "completed"
    },
    "tags": []
   },
   "outputs": [],
   "source": [
    "import requests\n",
    "from urllib.parse import urlencode\n",
    "\n",
    "def search_by_object_name(object_name, token):\n",
    "    \"\"\"\n",
    "    Searches the ADS API for records related to a given object name,\n",
    "    filtered to the astronomy database, and returns bibcode, database, and property.\n",
    "    \"\"\"\n",
    "\n",
    "    encoded_query = urlencode({\n",
    "        \"q\": f\"full:{object_name}\",  # Search for the object name in all metadata fields\n",
    "        \"fq\": \"database:astronomy\",  # Filter to the astronomy database\n",
    "        \"fl\": \"bibcode,abstract,database,property\",  # Return bibcode, database, and property fields\n",
    "        \"rows\": 2000  # Maximum number of rows to return (adjust as needed)\n",
    "    })\n",
    "\n",
    "    results = requests.get(\n",
    "        f\"https://api.adsabs.harvard.edu/v1/search/query?{encoded_query}\",\n",
    "        headers={'Authorization': 'Bearer ' + token}\n",
    "    )\n",
    "\n",
    "    return results.json()\n",
    "\n",
    "\n",
    "# Example usage: Replace with the object name you want to search for\n",
    "api_response = search_by_object_name(OBJECT_NAME, ADS_API_TOKEN)"
   ]
  },
  {
   "cell_type": "code",
   "execution_count": 5,
   "id": "4406047d",
   "metadata": {
    "execution": {
     "iopub.execute_input": "2025-04-20T17:14:04.471753Z",
     "iopub.status.busy": "2025-04-20T17:14:04.471316Z",
     "iopub.status.idle": "2025-04-20T17:14:11.208939Z",
     "shell.execute_reply": "2025-04-20T17:14:11.207271Z"
    },
    "id": "lEwSQePeF6w-",
    "papermill": {
     "duration": 6.750443,
     "end_time": "2025-04-20T17:14:11.210750",
     "exception": false,
     "start_time": "2025-04-20T17:14:04.460307",
     "status": "completed"
    },
    "tags": []
   },
   "outputs": [
    {
     "name": "stdout",
     "output_type": "stream",
     "text": [
      "\u001b[2K   \u001b[90m━━━━━━━━━━━━━━━━━━━━━━━━━━━━━━━━━━━━━━━━\u001b[0m \u001b[32m144.7/144.7 kB\u001b[0m \u001b[31m6.6 MB/s\u001b[0m eta \u001b[36m0:00:00\u001b[0m\r\n",
      "\u001b[2K   \u001b[90m━━━━━━━━━━━━━━━━━━━━━━━━━━━━━━━━━━━━━━━━\u001b[0m \u001b[32m100.9/100.9 kB\u001b[0m \u001b[31m5.1 MB/s\u001b[0m eta \u001b[36m0:00:00\u001b[0m\r\n",
      "\u001b[?25h"
     ]
    }
   ],
   "source": [
    "!pip install -Uq \"google-genai==1.7.0\""
   ]
  },
  {
   "cell_type": "code",
   "execution_count": 6,
   "id": "52ff070b",
   "metadata": {
    "execution": {
     "iopub.execute_input": "2025-04-20T17:14:11.224229Z",
     "iopub.status.busy": "2025-04-20T17:14:11.223895Z",
     "iopub.status.idle": "2025-04-20T17:14:12.519174Z",
     "shell.execute_reply": "2025-04-20T17:14:12.518310Z"
    },
    "id": "VWZlEwomGDir",
    "outputId": "e4e4a419-7be5-4b0e-c534-25a089c65600",
    "papermill": {
     "duration": 1.303827,
     "end_time": "2025-04-20T17:14:12.520723",
     "exception": false,
     "start_time": "2025-04-20T17:14:11.216896",
     "status": "completed"
    },
    "tags": []
   },
   "outputs": [
    {
     "data": {
      "text/plain": [
       "'1.7.0'"
      ]
     },
     "execution_count": 6,
     "metadata": {},
     "output_type": "execute_result"
    }
   ],
   "source": [
    "from google import genai\n",
    "from google.genai import types\n",
    "\n",
    "from IPython.display import Markdown, display\n",
    "\n",
    "genai.__version__"
   ]
  },
  {
   "cell_type": "markdown",
   "id": "da2bf8c8",
   "metadata": {
    "papermill": {
     "duration": 0.005705,
     "end_time": "2025-04-20T17:14:12.532515",
     "exception": false,
     "start_time": "2025-04-20T17:14:12.526810",
     "status": "completed"
    },
    "tags": []
   },
   "source": [
    "### Set up your API key\n",
    "\n",
    "To run the following cell, your API key must be stored it in a [Kaggle secret](https://www.kaggle.com/discussions/product-feedback/114053) named `GOOGLE_API_KEY`.\n",
    "\n",
    "If you don't already have an API key, you can grab one from [AI Studio](https://aistudio.google.com/app/apikey). You can find [detailed instructions in the docs](https://ai.google.dev/gemini-api/docs/api-key).\n",
    "\n",
    "To make the key available through Kaggle secrets, choose `Secrets` from the `Add-ons` menu and follow the instructions to add your key or enable it for this notebook."
   ]
  },
  {
   "cell_type": "code",
   "execution_count": 7,
   "id": "305fe47a",
   "metadata": {
    "execution": {
     "iopub.execute_input": "2025-04-20T17:14:12.546639Z",
     "iopub.status.busy": "2025-04-20T17:14:12.546134Z",
     "iopub.status.idle": "2025-04-20T17:14:13.093025Z",
     "shell.execute_reply": "2025-04-20T17:14:13.092192Z"
    },
    "id": "UteFYo7jGHRf",
    "papermill": {
     "duration": 0.556341,
     "end_time": "2025-04-20T17:14:13.094644",
     "exception": false,
     "start_time": "2025-04-20T17:14:12.538303",
     "status": "completed"
    },
    "tags": []
   },
   "outputs": [],
   "source": [
    "from kaggle_secrets import UserSecretsClient\n",
    "\n",
    "client = genai.Client(api_key=UserSecretsClient().get_secret(\"GOOGLE_API_KEY\"))"
   ]
  },
  {
   "cell_type": "markdown",
   "id": "698ddc64",
   "metadata": {
    "papermill": {
     "duration": 0.006021,
     "end_time": "2025-04-20T17:14:13.106651",
     "exception": false,
     "start_time": "2025-04-20T17:14:13.100630",
     "status": "completed"
    },
    "tags": []
   },
   "source": [
    "If you received an error response along the lines of `No user secrets exist for kernel id ...`, then you need to add your API key via `Add-ons`, `Secrets` **and** enable it.\n",
    "\n",
    "![Screenshot of the checkbox to enable GOOGLE_API_KEY secret](https://storage.googleapis.com/kaggle-media/Images/5gdai_sc_3.png)"
   ]
  },
  {
   "cell_type": "markdown",
   "id": "b3be3202",
   "metadata": {
    "id": "eCa4OX2DNyLI",
    "papermill": {
     "duration": 0.00564,
     "end_time": "2025-04-20T17:14:13.118555",
     "exception": false,
     "start_time": "2025-04-20T17:14:13.112915",
     "status": "completed"
    },
    "tags": []
   },
   "source": [
    "### Automated retry\n",
    "\n",
    "This codelab sends a lot of requests, so set up an automatic retry\n",
    "that ensures your requests are retried when per-minute quota is reached."
   ]
  },
  {
   "cell_type": "code",
   "execution_count": 8,
   "id": "748db769",
   "metadata": {
    "execution": {
     "iopub.execute_input": "2025-04-20T17:14:13.131444Z",
     "iopub.status.busy": "2025-04-20T17:14:13.131110Z",
     "iopub.status.idle": "2025-04-20T17:14:13.434565Z",
     "shell.execute_reply": "2025-04-20T17:14:13.433643Z"
    },
    "id": "V8as-_Hnr_cj",
    "papermill": {
     "duration": 0.312015,
     "end_time": "2025-04-20T17:14:13.436332",
     "exception": false,
     "start_time": "2025-04-20T17:14:13.124317",
     "status": "completed"
    },
    "tags": []
   },
   "outputs": [],
   "source": [
    "from google.api_core import retry\n",
    "\n",
    "is_retriable = lambda e: (isinstance(e, genai.errors.APIError) and e.code in {429, 503})\n",
    "\n",
    "if not hasattr(genai.models.Models.generate_content, '__wrapped__'):\n",
    "  genai.models.Models.generate_content = retry.Retry(\n",
    "      predicate=is_retriable)(genai.models.Models.generate_content)"
   ]
  },
  {
   "cell_type": "code",
   "execution_count": 9,
   "id": "778b2175",
   "metadata": {
    "execution": {
     "iopub.execute_input": "2025-04-20T17:14:13.450003Z",
     "iopub.status.busy": "2025-04-20T17:14:13.449467Z",
     "iopub.status.idle": "2025-04-20T17:14:13.457737Z",
     "shell.execute_reply": "2025-04-20T17:14:13.456584Z"
    },
    "papermill": {
     "duration": 0.016907,
     "end_time": "2025-04-20T17:14:13.459385",
     "exception": false,
     "start_time": "2025-04-20T17:14:13.442478",
     "status": "completed"
    },
    "tags": []
   },
   "outputs": [],
   "source": [
    "import re \n",
    "\n",
    "def analyze_abstract(abstract_text, object_name):\n",
    "    \"\"\"\n",
    "    Analyzes an abstract using the Gemini model to extract information about\n",
    "    orbital period, masses, inclination, magnetic field, and accretion/brightness states.\n",
    "    Returns a specific message if no information is found.\n",
    "    \"\"\"\n",
    "\n",
    "    prompt = f\"\"\"\n",
    "    You are an expert astronomer analyzing a research paper abstract about {object_name}.\n",
    "    Your task is to identify if the abstract mentions the following parameters and their values.\n",
    "    If a parameter is not mentioned, you MUST return the corresponding JSON structure with \"is\": false.\n",
    "\n",
    "    - Orbital Period (P_orb): Report the value and units (days, years, etc.).\n",
    "    - Mass of primary component (M1): Report the value and units (solar masses).\n",
    "    - Mass of secondary component (M2): Report the value and units (solar masses).\n",
    "    - Inclination Angle (i): Report the value and units (degrees).\n",
    "    - Magnetic Field Strength (B): Report the value and units (Gauss, Tesla, etc.). If multiple magnetic poles are mentioned, include \"multipole\": true and report the field strength for each pole (e.g., B1, B2).\n",
    "    - Accretion or Brightness States (States): Report the energy range (X-ray, optical, IR, etc.) and whether magnitude or flux variations are mentioned, along with their units (if applicable).\n",
    "\n",
    "    Follow this JSON template:\n",
    "    {{\n",
    "        \"P_orb\": {{\"is\": false}},\n",
    "        \"M1\": {{\"is\": false}},\n",
    "        \"M2\": {{\"is\": false}},\n",
    "        \"i\": {{\"is\": false}},\n",
    "        \"B\": {{\"is\": false}},\n",
    "        \"States\": {{\"is\": false}}\n",
    "    }}\n",
    "\n",
    "    If the abstract does not contain any information about the object {object_name},\n",
    "    return the following JSON:\n",
    "    {{\n",
    "        \"No information found\": \"True\"\n",
    "    }}\n",
    "\n",
    "    Abstract:\n",
    "    {abstract_text}\n",
    "\n",
    "    Output in JSON format:\n",
    "    \"\"\"\n",
    "\n",
    "    try:\n",
    "        # Set the temperature low to stabilize the output.\n",
    "        config = types.GenerateContentConfig(temperature=0.1)\n",
    "\n",
    "        response = client.models.generate_content(\n",
    "        model='gemini-2.0-flash',\n",
    "        config=config,\n",
    "        contents=[prompt],\n",
    "        )\n",
    "\n",
    "        json_string = response.text\n",
    "\n",
    "        # Use a regular expression to remove any non-JSON characters from the beginning and end of the string\n",
    "        json_string = re.sub(r\"^[^\\{]*\", \"\", json_string)\n",
    "        json_string = re.sub(r\"[^\\}]*$\", \"\", json_string)\n",
    "\n",
    "        try:\n",
    "            data = json.loads(json_string)\n",
    "            return data\n",
    "        except json.JSONDecodeError as e:\n",
    "            print(f\"Error decoding JSON: {e}\")\n",
    "            print(f\"Problematic JSON string: {json_string}\")\n",
    "            return None\n",
    "\n",
    "    except Exception as e:\n",
    "        print(f\"Error during Gemini API call: {e}\")\n",
    "        return None"
   ]
  },
  {
   "cell_type": "markdown",
   "id": "4f99cd7f",
   "metadata": {
    "papermill": {
     "duration": 0.005706,
     "end_time": "2025-04-20T17:14:13.471724",
     "exception": false,
     "start_time": "2025-04-20T17:14:13.466018",
     "status": "completed"
    },
    "tags": []
   },
   "source": [
    "\n",
    "# Searches for papers related to the object name, analyzes their abstracts, and saves the results in a JSON file.\n"
   ]
  },
  {
   "cell_type": "code",
   "execution_count": 10,
   "id": "c4ae1405",
   "metadata": {
    "execution": {
     "iopub.execute_input": "2025-04-20T17:14:13.485596Z",
     "iopub.status.busy": "2025-04-20T17:14:13.485223Z",
     "iopub.status.idle": "2025-04-20T17:15:24.613532Z",
     "shell.execute_reply": "2025-04-20T17:15:24.612088Z"
    },
    "papermill": {
     "duration": 71.137532,
     "end_time": "2025-04-20T17:15:24.615288",
     "exception": false,
     "start_time": "2025-04-20T17:14:13.477756",
     "status": "completed"
    },
    "tags": []
   },
   "outputs": [
    {
     "name": "stdout",
     "output_type": "stream",
     "text": [
      "Skipping 2018AN....339..540S due to no information found.\n",
      "Skipping 2017ASPC..510..502K due to no information found.\n",
      "Results saved to resuming_table/V808_Aur_results.json\n"
     ]
    }
   ],
   "source": [
    "import json\n",
    "\n",
    "results = {}\n",
    "\n",
    "if api_response and \"response\" in api_response and \"docs\" in api_response[\"response\"]:\n",
    "    for paper in api_response[\"response\"][\"docs\"]:\n",
    "        bibcode = paper.get(\"bibcode\")\n",
    "        abstract = paper.get(\"abstract\")\n",
    "        property_values = paper.get(\"property\", [])\n",
    "\n",
    "        if bibcode and abstract:\n",
    "            analysis_result = analyze_abstract(abstract, OBJECT_NAME)\n",
    "\n",
    "            if analysis_result and \"No information found\" not in analysis_result:\n",
    "                results[bibcode] = analysis_result\n",
    "                # Add openaccess information, filtering properties\n",
    "                openaccess_properties = [prop for prop in property_values if \"OPENACCESS\" in prop.upper()]\n",
    "                is_openaccess = len(openaccess_properties) > 0\n",
    "    \n",
    "                results[bibcode][\"openaccess\"] = {\n",
    "                    \"is\": is_openaccess,\n",
    "                    \"properties\": openaccess_properties\n",
    "                }\n",
    "            # Skip bibcodes with \"No information found\"\n",
    "            elif analysis_result and \"No information found\" in analysis_result:\n",
    "                print(f\"Skipping {bibcode} due to no information found.\")\n",
    "            else:\n",
    "                results[bibcode] = {\"error\": \"Analysis failed\"}\n",
    "\n",
    "            \n",
    "        else:\n",
    "            print(f\"Skipping paper due to missing bibcode or abstract.\")\n",
    "\n",
    "else:\n",
    "    print(\"No results found.\")\n",
    "\n",
    "# Save the results to a JSON file\n",
    "output_filename = f\"{OBJECT_NAME.replace(' ', '_')}_results.json\"\n",
    "output_filename = os.path.join(DOWNLOAD_DIR, output_filename)\n",
    "with open(output_filename, \"w\") as f:\n",
    "    json.dump(results, f, indent=4)\n",
    "\n",
    "print(f\"Results saved to {output_filename}\")"
   ]
  },
  {
   "cell_type": "code",
   "execution_count": 11,
   "id": "52473172",
   "metadata": {
    "execution": {
     "iopub.execute_input": "2025-04-20T17:15:24.629517Z",
     "iopub.status.busy": "2025-04-20T17:15:24.629212Z",
     "iopub.status.idle": "2025-04-20T17:15:26.638245Z",
     "shell.execute_reply": "2025-04-20T17:15:26.636917Z"
    },
    "papermill": {
     "duration": 2.018039,
     "end_time": "2025-04-20T17:15:26.639950",
     "exception": false,
     "start_time": "2025-04-20T17:15:24.621911",
     "status": "completed"
    },
    "tags": []
   },
   "outputs": [
    {
     "name": "stdout",
     "output_type": "stream",
     "text": [
      "Search Results:\n",
      "                Bibcode   Parameter  Is Present Value      Units Properties\n",
      "7   2019ARep...63..751Z       P_orb       False  None       None       None\n",
      "8   2019ARep...63..751Z          M1       False  None       None       None\n",
      "9   2019ARep...63..751Z          M2       False  None       None       None\n",
      "10  2019ARep...63..751Z           i       False  None       None       None\n",
      "11  2019ARep...63..751Z           B       False  None       None       None\n",
      "12  2019ARep...63..751Z      States        True  None  magnitude       None\n",
      "13  2019ARep...63..751Z  openaccess       False  None       None           \n"
     ]
    }
   ],
   "source": [
    "import pandas as pd\n",
    "\n",
    "def results_as_table(results):\n",
    "    \"\"\"\n",
    "    Unnests the JSON data for all objects and displays it as a table, with bibcode as a column.\n",
    "\n",
    "    Args:\n",
    "        results (dict): The nested JSON data loaded into a Python dictionary.\n",
    "    \"\"\"\n",
    "\n",
    "    table_data = []\n",
    "    for bibcode, object_data in results.items():\n",
    "        for key, value in object_data.items():\n",
    "            if isinstance(value, dict):\n",
    "                if \"is\" in value:\n",
    "                    is_value = value[\"is\"]\n",
    "                else:\n",
    "                    is_value = None\n",
    "\n",
    "                if \"value\" in value:\n",
    "                    actual_value = value[\"value\"]\n",
    "                else:\n",
    "                    actual_value = None\n",
    "\n",
    "                if \"units\" in value:\n",
    "                    units = value[\"units\"]\n",
    "                else:\n",
    "                    units = None\n",
    "\n",
    "                if \"properties\" in value:\n",
    "                    properties = \", \".join(value[\"properties\"])\n",
    "                else:\n",
    "                    properties = None\n",
    "\n",
    "                table_data.append({\n",
    "                    \"Bibcode\": bibcode,\n",
    "                    \"Parameter\": key,\n",
    "                    \"Is Present\": is_value,\n",
    "                    \"Value\": actual_value,\n",
    "                    \"Units\": units,\n",
    "                    \"Properties\": properties\n",
    "                })\n",
    "            elif key == \"No information found\":\n",
    "                table_data.append({\n",
    "                    \"Bibcode\": bibcode,\n",
    "                    \"Parameter\": key,\n",
    "                    \"Is Present\": value,\n",
    "                    \"Value\": None,\n",
    "                    \"Units\": None,\n",
    "                    \"Properties\": None\n",
    "                })\n",
    "\n",
    "    # Create a Pandas DataFrame from the unnested data\n",
    "    df = pd.DataFrame(table_data)\n",
    "\n",
    "    return df\n",
    "    \n",
    "# Example Usage (assuming you have the 'results' dictionary populated):\n",
    "results_df = results_as_table(results)\n",
    "# Display the DataFrame as a table\n",
    "print(\"Search Results:\")\n",
    "print(results_df[results_df.Bibcode == results_df.Bibcode[7]])"
   ]
  },
  {
   "cell_type": "markdown",
   "id": "fa6c88ea",
   "metadata": {
    "papermill": {
     "duration": 0.006272,
     "end_time": "2025-04-20T17:15:26.652952",
     "exception": false,
     "start_time": "2025-04-20T17:15:26.646680",
     "status": "completed"
    },
    "tags": []
   },
   "source": [
    "Now we want to checkout the papers that could have valuable information. For that we need to download them. "
   ]
  },
  {
   "cell_type": "code",
   "execution_count": 12,
   "id": "ba557518",
   "metadata": {
    "execution": {
     "iopub.execute_input": "2025-04-20T17:15:26.668440Z",
     "iopub.status.busy": "2025-04-20T17:15:26.667907Z",
     "iopub.status.idle": "2025-04-20T17:15:26.675898Z",
     "shell.execute_reply": "2025-04-20T17:15:26.674714Z"
    },
    "papermill": {
     "duration": 0.01773,
     "end_time": "2025-04-20T17:15:26.677574",
     "exception": false,
     "start_time": "2025-04-20T17:15:26.659844",
     "status": "completed"
    },
    "tags": []
   },
   "outputs": [],
   "source": [
    "def find_bibcodes_by_parameters(results, search_params):\n",
    "    \"\"\"\n",
    "    Finds bibcodes in the results dictionary that match the specified search parameters.\n",
    "\n",
    "    Args:\n",
    "        results (dict): The dictionary containing the analyzed paper data.\n",
    "        search_params (dict): A dictionary of search parameters, where keys are parameter names\n",
    "                              (e.g., \"openaccess\", \"P_orb\") and values are the desired values\n",
    "                              (e.g., True, False).\n",
    "\n",
    "    Returns:\n",
    "        list: A list of bibcodes that match the search parameters.\n",
    "    \"\"\"\n",
    "\n",
    "    matching_bibcodes = []\n",
    "\n",
    "    for bibcode, data in results.items():\n",
    "        match = True  # Assume the bibcode matches initially\n",
    "\n",
    "        for param, desired_value in search_params.items():\n",
    "            if param in data:\n",
    "                if isinstance(data[param], dict) and \"is\" in data[param]:\n",
    "                    # Handle nested dictionaries with \"is\" key (e.g., P_orb, openaccess)\n",
    "                    if data[param][\"is\"] != desired_value:\n",
    "                        match = False\n",
    "                        break  # No need to check other parameters for this bibcode\n",
    "                elif data[param] != desired_value:\n",
    "                    # Handle simple key-value pairs (e.g., \"No information found\": True)\n",
    "                    match = False\n",
    "                    break\n",
    "            else:\n",
    "                # Parameter not found in the data for this bibcode\n",
    "                match = False\n",
    "                break\n",
    "\n",
    "        if match:\n",
    "            matching_bibcodes.append(bibcode)\n",
    "\n",
    "    return matching_bibcodes"
   ]
  },
  {
   "cell_type": "code",
   "execution_count": 13,
   "id": "12d00834",
   "metadata": {
    "execution": {
     "iopub.execute_input": "2025-04-20T17:15:26.691879Z",
     "iopub.status.busy": "2025-04-20T17:15:26.690886Z",
     "iopub.status.idle": "2025-04-20T17:15:26.695748Z",
     "shell.execute_reply": "2025-04-20T17:15:26.694801Z"
    },
    "papermill": {
     "duration": 0.013506,
     "end_time": "2025-04-20T17:15:26.697371",
     "exception": false,
     "start_time": "2025-04-20T17:15:26.683865",
     "status": "completed"
    },
    "tags": []
   },
   "outputs": [],
   "source": [
    "chosen_papers = find_bibcodes_by_parameters(results, search_params={'openaccess': True, 'P_orb': True})"
   ]
  },
  {
   "cell_type": "code",
   "execution_count": 14,
   "id": "5cc87297",
   "metadata": {
    "execution": {
     "iopub.execute_input": "2025-04-20T17:15:26.711504Z",
     "iopub.status.busy": "2025-04-20T17:15:26.711170Z",
     "iopub.status.idle": "2025-04-20T17:15:26.719331Z",
     "shell.execute_reply": "2025-04-20T17:15:26.718509Z"
    },
    "papermill": {
     "duration": 0.017052,
     "end_time": "2025-04-20T17:15:26.720924",
     "exception": false,
     "start_time": "2025-04-20T17:15:26.703872",
     "status": "completed"
    },
    "tags": []
   },
   "outputs": [],
   "source": [
    "def download_pdfs_by_bibcodes(bibcodes, object_name, download_directory=\"downloaded_pdfs\"):\n",
    "    \"\"\"\n",
    "    Downloads PDFs for a list of bibcodes, creating URLs based on open access availability.\n",
    "\n",
    "    Args:\n",
    "        bibcodes (list): A list of bibcodes to download PDFs for.\n",
    "        object_name (str): The name of the object being studied (used for filename).\n",
    "        download_directory (str): The directory to save the downloaded PDFs.\n",
    "    \"\"\"\n",
    "\n",
    "    # Create the download directory if it doesn't exist\n",
    "    if not os.path.exists(download_directory):\n",
    "        os.makedirs(download_directory)\n",
    "        print(f\"Created directory: {download_directory}\")\n",
    "\n",
    "    for bibcode in bibcodes:\n",
    "        eprint_url = f\"https://ui.adsabs.harvard.edu/link_gateway/{bibcode}/EPRINT_PDF\"\n",
    "        pub_url = f\"https://ui.adsabs.harvard.edu/link_gateway/{bibcode}/PUB_PDF\"\n",
    "        output_filename = os.path.join(download_directory, f\"{object_name.replace(' ', '_')}_{bibcode}.pdf\")\n",
    "\n",
    "        # Try downloading from arXiv first\n",
    "        try:\n",
    "            response = requests.get(eprint_url)\n",
    "            response.raise_for_status()  # Raise HTTPError for bad responses (4xx or 5xx)\n",
    "            with open(output_filename, 'wb') as f:\n",
    "                f.write(response.content)\n",
    "            print(f\"Downloaded arXiv PDF: {output_filename}\")\n",
    "            continue  # Skip to the next bibcode after successful download\n",
    "        except requests.exceptions.RequestException:\n",
    "            print(f\"arXiv PDF not found for {bibcode}. Trying publisher PDF...\")\n",
    "\n",
    "        # If arXiv fails, try downloading from the publisher\n",
    "        try:\n",
    "            response = requests.get(pub_url)\n",
    "            response.raise_for_status()  # Raise HTTPError for bad responses (4xx or 5xx)\n",
    "            with open(output_filename, 'wb') as f:\n",
    "                f.write(response.content)\n",
    "            print(f\"Downloaded publisher PDF: {output_filename}\")\n",
    "        except requests.exceptions.RequestException as e:\n",
    "            print(f\"Error downloading PDF for {bibcode}: {e}\")\n",
    "\n",
    "# Example Usage:\n",
    "# Assuming you have a list of bibcodes called 'bibcodes_to_download'\n",
    "# object_name = \"YourObjectName\"  # Replace with your object name\n",
    "# download_pdfs_by_bibcodes(bibcodes_to_download, object_name)    "
   ]
  },
  {
   "cell_type": "code",
   "execution_count": 15,
   "id": "f3bbffad",
   "metadata": {
    "execution": {
     "iopub.execute_input": "2025-04-20T17:15:26.735225Z",
     "iopub.status.busy": "2025-04-20T17:15:26.734912Z",
     "iopub.status.idle": "2025-04-20T17:15:29.523420Z",
     "shell.execute_reply": "2025-04-20T17:15:29.522416Z"
    },
    "papermill": {
     "duration": 2.797743,
     "end_time": "2025-04-20T17:15:29.524924",
     "exception": false,
     "start_time": "2025-04-20T17:15:26.727181",
     "status": "completed"
    },
    "tags": []
   },
   "outputs": [
    {
     "name": "stdout",
     "output_type": "stream",
     "text": [
      "Created directory: downloaded_pdfs\n",
      "Downloaded arXiv PDF: downloaded_pdfs/V808_Aur_2024ApJ...967...81L.pdf\n",
      "arXiv PDF not found for 2020PhDT........58A. Trying publisher PDF...\n",
      "Error downloading PDF for 2020PhDT........58A: 404 Client Error: NOT FOUND for url: https://ui.adsabs.harvard.edu/link_gateway/2020PhDT........58A/PUB_PDF\n",
      "Downloaded arXiv PDF: downloaded_pdfs/V808_Aur_2024A&A...686A.175O.pdf\n",
      "Downloaded arXiv PDF: downloaded_pdfs/V808_Aur_2018AJ....155...18L.pdf\n"
     ]
    }
   ],
   "source": [
    "download_pdfs_by_bibcodes(chosen_papers, OBJECT_NAME)"
   ]
  },
  {
   "cell_type": "markdown",
   "id": "e5524653",
   "metadata": {
    "papermill": {
     "duration": 0.006203,
     "end_time": "2025-04-20T17:15:29.537887",
     "exception": false,
     "start_time": "2025-04-20T17:15:29.531684",
     "status": "completed"
    },
    "tags": []
   },
   "source": [
    "Now we could use Generative AI to check the full papers and understand what methods were used to determine parameters."
   ]
  },
  {
   "cell_type": "code",
   "execution_count": 16,
   "id": "4b440a3e",
   "metadata": {
    "execution": {
     "iopub.execute_input": "2025-04-20T17:15:29.552958Z",
     "iopub.status.busy": "2025-04-20T17:15:29.552587Z",
     "iopub.status.idle": "2025-04-20T17:15:53.556801Z",
     "shell.execute_reply": "2025-04-20T17:15:53.555585Z"
    },
    "papermill": {
     "duration": 24.014288,
     "end_time": "2025-04-20T17:15:53.558720",
     "exception": false,
     "start_time": "2025-04-20T17:15:29.544432",
     "status": "completed"
    },
    "tags": []
   },
   "outputs": [
    {
     "name": "stdout",
     "output_type": "stream",
     "text": [
      "Google AI SDK configured successfully.\n",
      "Using model: models/gemini-2.0-flash\n",
      "Found 3 files to process in 'downloaded_pdfs'.\n",
      "\n",
      "--- Processing: V808_Aur_2018AJ....155...18L.pdf ---\n",
      "Uploading V808_Aur_2018AJ....155...18L.pdf...\n",
      "Uploaded 'V808_Aur_2018AJ....155...18L.pdf' as files/285syw3nqrkm (1534595 bytes)\n"
     ]
    },
    {
     "data": {
      "text/markdown": [
       "Filename: V808_Aur_2018AJ....155...18L.pdf\n",
       "The paper is not about V808 Aur. It is about MASTER OT J132104.04+560957.8, a polar."
      ],
      "text/plain": [
       "<IPython.core.display.Markdown object>"
      ]
     },
     "metadata": {},
     "output_type": "display_data"
    },
    {
     "name": "stdout",
     "output_type": "stream",
     "text": [
      "Deleting uploaded file: files/285syw3nqrkm...\n",
      "File deleted successfully.\n",
      "\n",
      "--- Processing: V808_Aur_2024A&A...686A.175O.pdf ---\n",
      "Uploading V808_Aur_2024A&A...686A.175O.pdf...\n",
      "Uploaded 'V808_Aur_2024A&A...686A.175O.pdf' as files/v1duhe6lbu91 (1467425 bytes)\n"
     ]
    },
    {
     "data": {
      "text/markdown": [
       "Filename: V808_Aur_2024A&A...686A.175O.pdf\n",
       "The paper is not about V808 Aur. It is about the discovery of a magnetic cataclysmic variable XMM J152737.4-205305.9."
      ],
      "text/plain": [
       "<IPython.core.display.Markdown object>"
      ]
     },
     "metadata": {},
     "output_type": "display_data"
    },
    {
     "name": "stdout",
     "output_type": "stream",
     "text": [
      "Deleting uploaded file: files/v1duhe6lbu91...\n",
      "File deleted successfully.\n",
      "\n",
      "--- Processing: V808_Aur_2024ApJ...967...81L.pdf ---\n",
      "Uploading V808_Aur_2024ApJ...967...81L.pdf...\n",
      "Uploaded 'V808_Aur_2024ApJ...967...81L.pdf' as files/n2nwto3jb3uc (633247 bytes)\n"
     ]
    },
    {
     "data": {
      "text/markdown": [
       "Filename: V808_Aur_2024ApJ...967...81L.pdf\n",
       "Yes, the paper is about V808 Aurigae (V808 Aur).\n",
       "\n",
       "**Parameters Found and Methods Used:**\n",
       "\n",
       "*   **Eclipse Timings:** The primary data analyzed were eclipse timings of V808 Aur spanning 15 years (2008-2023). Eclipse timings were obtained from multiple telescopes: TESS, Sarah L. Krizmanich Telescope (SLKT), Leibniz-Institut für Astrophysik Potsdam (AIP), MONET/North, Calar Alto, Las Cumbres Observatory (LCO), and McDonald Observatory.\n",
       "*   **Photometry:** Photometric data were used to determine eclipse timings and to correlate brightness with timing variations.\n",
       "*   **Timing Analysis:** The observed times of mid-eclipse were compared to an ephemeris derived by Schwope et al. (2015). O-C (Observed minus Calculated) times were calculated and analyzed.\n",
       "*   **Orbital Modeling:** A third-body orbital model (Irwin 1952) was used to fit the eclipse timing variations, assuming a planet orbiting the polar. The model included parameters such as orbital period, semi-amplitude, eccentricity, longitude of periastron, and epoch of periastron passage.\n",
       "*   **Statistical Analysis:** Least-squares fitting was used to determine the best-fit parameters for the orbital model. The chi-squared (x²) parameter was used to assess the goodness of fit.\n",
       "*   **Mass Estimation:** The mass function and projected mass of the third body were estimated based on the orbital parameters and an assumed total mass for the system.\n",
       "\n",
       "**Key Findings Related to V808 Aur:**\n",
       "\n",
       "*   **Eclipse Timing Variations:** The eclipse timings of V808 Aur showed significant variations, deviating from a linear ephemeris by more than 50 seconds between 2015 and 2017.\n",
       "*   **Correlation with Brightness:** A correlation was found between the brightness of V808 Aur and eclipse timing residuals, with a slope of 1.1 s/mag. This was attributed to changes in the accretion geometry and luminosity with variations in the mass transfer rate.\n",
       "*   **Eccentric Planet Model:** The eclipse timing variations were well-modeled by the light-travel time variation caused by a third body in a highly eccentric orbit. The best-fit orbital period for the third body was 11 ± 1 years.\n",
       "*   **Projected Mass:** The projected mass of the third body was estimated to be Msin(i) = 6.8 ± 0.7 Jupiter masses.\n",
       "*   **Periastron Passage:** The next periastron passage of the planet is expected to occur in 2028.\n",
       "*   **Alternative Explanations:** The authors acknowledge that other mechanisms, such as the Applegate mechanism or changes in accretion geometry, could also contribute to the eclipse timing variations, but the eccentric planet model provides an excellent fit to the data.\n"
      ],
      "text/plain": [
       "<IPython.core.display.Markdown object>"
      ]
     },
     "metadata": {},
     "output_type": "display_data"
    },
    {
     "name": "stdout",
     "output_type": "stream",
     "text": [
      "Deleting uploaded file: files/n2nwto3jb3uc...\n",
      "File deleted successfully.\n"
     ]
    }
   ],
   "source": [
    "import google.generativeai as genai\n",
    "from google.api_core import exceptions # For specific error handling\n",
    "from IPython.display import Markdown, display\n",
    "import traceback\n",
    "import time # For potential retries or delays\n",
    "\n",
    "try:\n",
    "    from kaggle_secrets import UserSecretsClient\n",
    "    user_secrets = UserSecretsClient()\n",
    "    api_key = user_secrets.get_secret(\"GOOGLE_API_KEY\")\n",
    "\n",
    "    # Configure the GenAI library\n",
    "    genai.configure(api_key=api_key)\n",
    "    print(\"Google AI SDK configured successfully.\")\n",
    "\n",
    "    # Define the model client\n",
    "    # Use a model compatible with the File API, like gemini-1.5-flash or gemini-1.5-pro\n",
    "    # 'gemini-1.5-flash-latest' usually points to the most recent flash model\n",
    "    model = genai.GenerativeModel('gemini-2.0-flash')\n",
    "    print(f\"Using model: {model.model_name}\")\n",
    "\n",
    "except UserSecretsClient.SecretNotFoundError:\n",
    "    print(\"ERROR: Secret 'GOOGLE_API_KEY' not found. Please add it via Add-ons -> Secrets.\")\n",
    "    # Stop execution or handle appropriately\n",
    "    raise # Re-raise the error to stop the notebook cell\n",
    "except Exception as e:\n",
    "    print(f\"ERROR during Authentication or Initialization: {e}\")\n",
    "    print(traceback.format_exc()) # Print detailed traceback\n",
    "    # Stop execution or handle appropriately\n",
    "    raise # Re-raise the error\n",
    "\n",
    "# --- 4. Function Definitions ---\n",
    "\n",
    "# Function to summarise document (accepts uploaded file object)\n",
    "def summarise_doc(request: str, uploaded_file_object) -> str:\n",
    "    \"\"\"Execute the request on the provided uploaded file object.\"\"\"\n",
    "    # Note: Configuration can be passed directly to generate_content\n",
    "\n",
    "    generation_config = genai.types.GenerationConfig(temperature=0.0)\n",
    "    try:\n",
    "        # Create the prompt and include the uploaded file object\n",
    "        response = model.generate_content(\n",
    "            [request, uploaded_file_object], # Pass text prompt and file object\n",
    "            generation_config=generation_config\n",
    "            # Optional: Add safety settings if needed\n",
    "            # safety_settings=...\n",
    "        )\n",
    "        # Check response for issues before accessing text\n",
    "        if not response.candidates or response.candidates[0].finish_reason.name not in [\"STOP\", \"MAX_TOKENS\"]:\n",
    "             reason = response.candidates[0].finish_reason.name if response.candidates else \"UNKNOWN\"\n",
    "             safety_ratings_str = str(response.candidates[0].safety_ratings) if response.candidates and response.candidates[0].safety_ratings else \"N/A\"\n",
    "             print(f\"Warning: Model response potentially incomplete or blocked. Reason: {reason}. Safety Ratings: {safety_ratings_str}\")\n",
    "             # Attempt to return text if possible, otherwise indicate the issue\n",
    "             try:\n",
    "                 return response.text\n",
    "             except ValueError:\n",
    "                 return f\"Error: Model response issue (Reason: {reason}). No text content available. Check safety ratings/prompt.\"\n",
    "\n",
    "        return response.text\n",
    "\n",
    "    except exceptions.GoogleAPIError as e:\n",
    "        # Handle specific Google API errors (like quota, resource exhausted)\n",
    "        print(f\"ERROR during API call: {e}\")\n",
    "        print(traceback.format_exc())\n",
    "        # Implement retry logic here if needed (e.g., for 429 Resource Exhausted)\n",
    "        # if e.code == 429:\n",
    "        #    time.sleep(10) # wait and potentially retry\n",
    "        return f\"Error processing document via API: {e}\"\n",
    "    except Exception as e:\n",
    "        # Handle other unexpected errors\n",
    "        print(f\"ERROR generating content: {e}\")\n",
    "        print(traceback.format_exc())\n",
    "        return f\"Unexpected error processing document: {e}\"\n",
    "\n",
    "# Function to iterate through papers in a directory\n",
    "def make_a_summary_across_papers(directory, object_name):\n",
    "    \"\"\"Processes papers in a directory, summarising relevant ones using Google AI SDK.\"\"\"\n",
    "    if not os.path.isdir(directory):\n",
    "        print(f\"Error: Directory not found - {directory}\")\n",
    "        return\n",
    "\n",
    "    list_of_papers = [f for f in os.listdir(directory) if os.path.isfile(os.path.join(directory, f))]\n",
    "\n",
    "    if not list_of_papers:\n",
    "        print(f\"No files found in directory: {directory}\")\n",
    "        return\n",
    "\n",
    "    print(f\"Found {len(list_of_papers)} files to process in '{directory}'.\")\n",
    "\n",
    "    for paper_filename in list_of_papers:\n",
    "        full_path = os.path.join(directory, paper_filename)\n",
    "        print(f\"\\n--- Processing: {paper_filename} ---\")\n",
    "\n",
    "        # Only process PDF files (add other supported types if needed by the API)\n",
    "        if not paper_filename.lower().endswith(\".pdf\"):\n",
    "            print(f\"Skipping non-PDF file: {paper_filename}\")\n",
    "            continue\n",
    "\n",
    "        uploaded_file = None # Initialize variable to None\n",
    "        try:\n",
    "            # 1. Upload the file using the genai File API\n",
    "            print(f\"Uploading {paper_filename}...\")\n",
    "            # display_name helps identify the file in Google AI Studio file manager (optional)\n",
    "            uploaded_file = genai.upload_file(path=full_path, display_name=paper_filename)\n",
    "            print(f\"Uploaded '{uploaded_file.display_name}' as {uploaded_file.name} ({uploaded_file.size_bytes} bytes)\")\n",
    "\n",
    "            # 2. Create the request for this specific paper\n",
    "            request = f\"\"\"Filename: {paper_filename}\n",
    "\n",
    "Check if the paper is about {object_name}. If it is, tell what parameters were found and what methods were used. Summarize the key findings related to {object_name}.\n",
    "If it is not about the {object_name}, clearly state that it is not about {object_name}.\n",
    "Ensure the first line of your response is exactly 'Filename: {paper_filename}'.\"\"\"\n",
    "\n",
    "            # 3. Call summarise_doc, passing the uploaded file object\n",
    "            summary = summarise_doc(request, uploaded_file)\n",
    "\n",
    "            # 4. Display the result\n",
    "            display(Markdown(summary))\n",
    "\n",
    "        except FileNotFoundError:\n",
    "            print(f\"Error: File not found at {full_path}\")\n",
    "            continue # Skip to the next file\n",
    "        except exceptions.GoogleAPIError as e:\n",
    "            print(f\"Error during file upload or processing API call for {paper_filename}: {e}\")\n",
    "            # Consider whether to continue or stop on API errors\n",
    "            continue\n",
    "        except Exception as e:\n",
    "            print(f\"Error processing file {paper_filename}: {e}\")\n",
    "            print(traceback.format_exc())\n",
    "            continue # Skip to the next file\n",
    "\n",
    "        finally:\n",
    "            # 5. IMPORTANT: Delete the file from the service after use\n",
    "            if uploaded_file:\n",
    "                try:\n",
    "                    print(f\"Deleting uploaded file: {uploaded_file.name}...\")\n",
    "                    genai.delete_file(uploaded_file.name)\n",
    "                    print(\"File deleted successfully.\")\n",
    "                except Exception as e:\n",
    "                    # Log deletion error but continue processing other files\n",
    "                    print(f\"Warning: Failed to delete file {uploaded_file.name}: {e}\")\n",
    "\n",
    "\n",
    "# --- 5. Execution ---\n",
    "\n",
    "\n",
    "papers_directory = 'downloaded_pdfs' # ADJUST THIS PATH\n",
    "\n",
    "# Replace 'V808_Aur' with the object name you are interested in.\n",
    "target_object = 'V808_Aur'\n",
    "\n",
    "make_a_summary_across_papers(papers_directory, target_object)\n"
   ]
  },
  {
   "cell_type": "markdown",
   "id": "c55a25a1",
   "metadata": {
    "papermill": {
     "duration": 0.006886,
     "end_time": "2025-04-20T17:15:53.573220",
     "exception": false,
     "start_time": "2025-04-20T17:15:53.566334",
     "status": "completed"
    },
    "tags": []
   },
   "source": [
    "# One more application for AI is image understanding. And there is a task in astronomy of outliers detection.  "
   ]
  },
  {
   "cell_type": "code",
   "execution_count": 17,
   "id": "28d7ea4a",
   "metadata": {
    "execution": {
     "iopub.execute_input": "2025-04-20T17:15:53.589996Z",
     "iopub.status.busy": "2025-04-20T17:15:53.588729Z",
     "iopub.status.idle": "2025-04-20T17:15:53.605506Z",
     "shell.execute_reply": "2025-04-20T17:15:53.604123Z"
    },
    "papermill": {
     "duration": 0.026713,
     "end_time": "2025-04-20T17:15:53.607034",
     "exception": false,
     "start_time": "2025-04-20T17:15:53.580321",
     "status": "completed"
    },
    "tags": []
   },
   "outputs": [
    {
     "name": "stdout",
     "output_type": "stream",
     "text": [
      "--- Checking all files recursively under '/kaggle/input/' ---\n",
      "\n",
      "Found 10 total files:\n",
      "/kaggle/input/test-images/00003.png\n",
      "/kaggle/input/test-images/00004.png\n",
      "/kaggle/input/test-images/00007.png\n",
      "/kaggle/input/test-images/00013.png\n",
      "/kaggle/input/test-images/00016.png\n",
      "/kaggle/input/test-images/00017.png\n",
      "/kaggle/input/test-images/00018.png\n",
      "/kaggle/input/test-images/00021.png\n",
      "/kaggle/input/test-images/00023.png\n",
      "/kaggle/input/test-images/00029.png\n",
      "--- Finished checking ---\n"
     ]
    }
   ],
   "source": [
    "input_dir = '/kaggle/input/'\n",
    "found_files = []\n",
    "\n",
    "print(f\"--- Checking all files recursively under '{input_dir}' ---\")\n",
    "\n",
    "# Check if the base input directory exists\n",
    "if not os.path.isdir(input_dir):\n",
    "    print(f\"Error: Base input directory '{input_dir}' does not exist.\")\n",
    "    print(\"Have you added any datasets to this notebook?\")\n",
    "else:\n",
    "    # Recursively walk through the directory tree\n",
    "    for dirpath, dirnames, filenames in os.walk(input_dir):\n",
    "        # dirpath: current directory path\n",
    "        # dirnames: list of subdirectories in dirpath\n",
    "        # filenames: list of files in dirpath\n",
    "\n",
    "        # Print files found in the current directory\n",
    "        for filename in filenames:\n",
    "            full_path = os.path.join(dirpath, filename)\n",
    "            found_files.append(full_path)\n",
    "            # Optional: print immediately if you prefer\n",
    "            # print(full_path)\n",
    "\n",
    "    # Print the summary\n",
    "    if not found_files:\n",
    "        print(\"\\nNo files found within any subdirectories of /kaggle/input/.\")\n",
    "        print(\"Please ensure your datasets are correctly added and contain files.\")\n",
    "    else:\n",
    "        print(f\"\\nFound {len(found_files)} total files:\")\n",
    "        # Sort for cleaner output\n",
    "        for file_path in sorted(found_files):\n",
    "            print(file_path)\n",
    "\n",
    "print(\"--- Finished checking ---\")"
   ]
  },
  {
   "cell_type": "markdown",
   "id": "f4dcda1e",
   "metadata": {
    "papermill": {
     "duration": 0.007201,
     "end_time": "2025-04-20T17:15:53.621669",
     "exception": false,
     "start_time": "2025-04-20T17:15:53.614468",
     "status": "completed"
    },
    "tags": []
   },
   "source": [
    "I will give an image to the model and ask it to look at the image and say if there are outliers or not. "
   ]
  },
  {
   "cell_type": "code",
   "execution_count": 18,
   "id": "23f13418",
   "metadata": {
    "execution": {
     "iopub.execute_input": "2025-04-20T17:15:53.638093Z",
     "iopub.status.busy": "2025-04-20T17:15:53.637744Z",
     "iopub.status.idle": "2025-04-20T17:17:01.458391Z",
     "shell.execute_reply": "2025-04-20T17:17:01.457599Z"
    },
    "papermill": {
     "duration": 67.830791,
     "end_time": "2025-04-20T17:17:01.459880",
     "exception": false,
     "start_time": "2025-04-20T17:15:53.629089",
     "status": "completed"
    },
    "tags": []
   },
   "outputs": [
    {
     "name": "stdout",
     "output_type": "stream",
     "text": [
      "Using model: models/gemini-2.0-flash\n",
      "Warning: Ensure the selected model 'models/gemini-2.0-flash' supports image input.\n",
      "Found 10 image files to process in '/kaggle/input/test-images'.\n",
      "Processing: 00004.png...\n",
      "Processing: 00023.png...\n",
      "Processing: 00003.png...\n",
      "Processing: 00018.png...\n",
      "Processing: 00016.png...\n",
      "Processing: 00017.png...\n",
      "  Error: API Error for 00017.png: 429 You exceeded your current quota, please check your plan and billing details. For more information on this error, head to: https://ai.google.dev/gemini-api/docs/rate-limits. [violations {\n",
      "}\n",
      ", links {\n",
      "  description: \"Learn more about Gemini API quotas\"\n",
      "  url: \"https://ai.google.dev/gemini-api/docs/rate-limits\"\n",
      "}\n",
      ", retry_delay {\n",
      "  seconds: 2\n",
      "}\n",
      "]\n",
      "  Rate limit likely hit, pausing for 60 seconds...\n",
      "Processing: 00007.png...\n",
      "Processing: 00029.png...\n",
      "Processing: 00013.png...\n",
      "Processing: 00021.png...\n",
      "\n",
      "--- Finished processing 10 images ---\n",
      "\n",
      "Results saved successfully to: /kaggle/working/image_outlier_results.csv\n",
      "\n",
      "First 5 results:\n"
     ]
    },
    {
     "data": {
      "text/html": [
       "<div>\n",
       "<style scoped>\n",
       "    .dataframe tbody tr th:only-of-type {\n",
       "        vertical-align: middle;\n",
       "    }\n",
       "\n",
       "    .dataframe tbody tr th {\n",
       "        vertical-align: top;\n",
       "    }\n",
       "\n",
       "    .dataframe thead th {\n",
       "        text-align: right;\n",
       "    }\n",
       "</style>\n",
       "<table border=\"1\" class=\"dataframe\">\n",
       "  <thead>\n",
       "    <tr style=\"text-align: right;\">\n",
       "      <th></th>\n",
       "      <th>filename</th>\n",
       "      <th>classification</th>\n",
       "    </tr>\n",
       "  </thead>\n",
       "  <tbody>\n",
       "    <tr>\n",
       "      <th>0</th>\n",
       "      <td>00004.png</td>\n",
       "      <td>with outlier</td>\n",
       "    </tr>\n",
       "    <tr>\n",
       "      <th>1</th>\n",
       "      <td>00023.png</td>\n",
       "      <td>without outlier</td>\n",
       "    </tr>\n",
       "    <tr>\n",
       "      <th>2</th>\n",
       "      <td>00003.png</td>\n",
       "      <td>without outlier</td>\n",
       "    </tr>\n",
       "    <tr>\n",
       "      <th>3</th>\n",
       "      <td>00018.png</td>\n",
       "      <td>without outlier</td>\n",
       "    </tr>\n",
       "    <tr>\n",
       "      <th>4</th>\n",
       "      <td>00016.png</td>\n",
       "      <td>without outlier</td>\n",
       "    </tr>\n",
       "  </tbody>\n",
       "</table>\n",
       "</div>"
      ],
      "text/plain": [
       "    filename   classification\n",
       "0  00004.png     with outlier\n",
       "1  00023.png  without outlier\n",
       "2  00003.png  without outlier\n",
       "3  00018.png  without outlier\n",
       "4  00016.png  without outlier"
      ]
     },
     "metadata": {},
     "output_type": "display_data"
    }
   ],
   "source": [
    "# --- 1. Installation (if not already done in the session) ---\n",
    "# !pip install -Uq \"google-generativeai\"\n",
    "# !pip install -Uq pandas # Usually pre-installed in Kaggle\n",
    "\n",
    "# --- 2. Imports ---\n",
    "import os\n",
    "import google.generativeai as genai\n",
    "from google.api_core import exceptions\n",
    "from IPython.display import Markdown, display, Image\n",
    "import traceback\n",
    "import time\n",
    "import mimetypes\n",
    "import pandas as pd # Import pandas\n",
    "\n",
    "# --- 3. Authentication & Initialization (Assumes already done) ---\n",
    "# (Make sure 'genai' is configured and 'model' is initialized)\n",
    "model = genai.GenerativeModel('gemini-2.0-flash')\n",
    "print(f\"Using model: {model.model_name}\")\n",
    "# --- Check if model client exists (important!) ---\n",
    "if 'model' not in globals() or not model:\n",
    "     raise NameError(\"ERROR: 'model' client not initialized. Run authentication/initialization code first.\")\n",
    "elif not getattr(model, '_model_name', '').startswith('gemini'):\n",
    "     print(f\"Warning: Ensure the selected model '{getattr(model, '_model_name', 'Unknown')}' supports image input.\")\n",
    "\n",
    "\n",
    "# --- 4. Function Definitions ---\n",
    "\n",
    "def get_mime_type(file_path):\n",
    "    \"\"\"Gets the MIME type of a file.\"\"\"\n",
    "    mime_type, _ = mimetypes.guess_type(file_path)\n",
    "    if mime_type is None:\n",
    "        ext = os.path.splitext(file_path)[1].lower()\n",
    "        if ext == '.jpg' or ext == '.jpeg': mime_type = 'image/jpeg'\n",
    "        elif ext == '.png': mime_type = 'image/png'\n",
    "        elif ext == '.webp': mime_type = 'image/webp'\n",
    "        elif ext == '.gif': mime_type = 'image/gif'\n",
    "    return mime_type\n",
    "\n",
    "def classify_image_outlier(image_path: str) -> str:\n",
    "    \"\"\"\n",
    "    Analyzes an image file using the Gemini model to classify if it contains an outlier.\n",
    "    Returns a string containing the model's classification attempt or an error message.\n",
    "    (Function body remains the same as the previous version - it returns the raw string)\n",
    "    \"\"\"\n",
    "    filename = os.path.basename(image_path)\n",
    "    print(f\"Processing: {filename}...\")\n",
    "    try:\n",
    "        mime_type = get_mime_type(image_path)\n",
    "        if not mime_type or not mime_type.startswith('image/'):\n",
    "            # Return a consistent error format\n",
    "            return f\"Filename: {filename}, Result: Error - Not a recognized image format ({mime_type})\"\n",
    "\n",
    "        with open(image_path, \"rb\") as f:\n",
    "            image_bytes = f.read()\n",
    "        image_part = {\"mime_type\": mime_type, \"data\": image_bytes}\n",
    "\n",
    "        prompt = f\"\"\"Analyze the provided image ({filename}).\n",
    "Determine if it contains a significant visual outlier or anomaly based on its general content.\n",
    "An outlier could be an object that clearly doesn't belong with others, a data point far from the main cluster in a plot, a notable defect or abnormality in the image's primary subject, or something visually jarring compared to a typical image of its kind.\n",
    "\n",
    "Respond with *only* the filename and the result on a single line, formatted exactly as:\n",
    "'Filename: {filename}, Result: [with outlier/without outlier]'\n",
    "\n",
    "Do not add any explanation or other text. For example:\n",
    "'Filename: {filename}, Result: without outlier'\n",
    "\"\"\"\n",
    "        generation_config = genai.types.GenerationConfig(temperature=0.1)\n",
    "        response = model.generate_content(\n",
    "            [prompt, image_part],\n",
    "            generation_config=generation_config,\n",
    "            request_options={\"timeout\": 120}\n",
    "        )\n",
    "\n",
    "        if not response.candidates or response.candidates[0].finish_reason.name not in [\"STOP\", \"MAX_TOKENS\"]:\n",
    "             reason = response.candidates[0].finish_reason.name if response.candidates else \"UNKNOWN\"\n",
    "             safety_ratings_str = str(response.candidates[0].safety_ratings) if response.candidates and response.candidates[0].safety_ratings else \"N/A\"\n",
    "             print(f\"  Warning: Model response potentially incomplete or blocked. Reason: {reason}. Safety: {safety_ratings_str}\")\n",
    "             try: return response.text.strip()\n",
    "             except ValueError: return f\"Filename: {filename}, Result: Error - Model response issue (Reason: {reason})\"\n",
    "        return response.text.strip()\n",
    "\n",
    "    except FileNotFoundError:\n",
    "        print(f\"  Error: File not found at {image_path}\")\n",
    "        return f\"Filename: {filename}, Result: Error - File not found\"\n",
    "    except exceptions.GoogleAPIError as e:\n",
    "        print(f\"  Error: API Error for {filename}: {e}\")\n",
    "        if '429' in str(e):\n",
    "             print(\"  Rate limit likely hit, pausing for 60 seconds...\")\n",
    "             time.sleep(60)\n",
    "        return f\"Filename: {filename}, Result: Error - API Error ({type(e).__name__})\"\n",
    "    except Exception as e:\n",
    "        print(f\"  Error: Unexpected error processing {filename}: {e}\")\n",
    "        # traceback.print_exc() # Optionally print full traceback\n",
    "        return f\"Filename: {filename}, Result: Error - Unexpected ({type(e).__name__})\"\n",
    "\n",
    "\n",
    "# --- MODIFIED Function to process images and save results ---\n",
    "def process_images_and_save_results(directory: str, output_filename: str = \"outlier_classification_results.csv\"):\n",
    "    \"\"\"\n",
    "    Iterates through image files, classifies them for outliers,\n",
    "    parses the results, and saves them to a CSV file.\n",
    "    \"\"\"\n",
    "    if not os.path.isdir(directory):\n",
    "        print(f\"Error: Directory not found - {directory}\")\n",
    "        return\n",
    "\n",
    "    image_extensions = ('.png', '.jpg', '.jpeg', '.webp', '.gif', '.bmp')\n",
    "    all_files = [f for f in os.listdir(directory) if os.path.isfile(os.path.join(directory, f))]\n",
    "    image_files = [f for f in all_files if f.lower().endswith(image_extensions)]\n",
    "\n",
    "    if not image_files:\n",
    "        print(f\"No image files found in directory: {directory}\")\n",
    "        return\n",
    "\n",
    "    print(f\"Found {len(image_files)} image files to process in '{directory}'.\")\n",
    "\n",
    "    structured_results = [] # List to store dictionaries\n",
    "\n",
    "    for filename in image_files:\n",
    "        full_path = os.path.join(directory, filename)\n",
    "        raw_result_string = classify_image_outlier(full_path)\n",
    "\n",
    "        # --- Parse the raw result string ---\n",
    "        parsed_classification = \"Parsing Error\" # Default if parsing fails\n",
    "        # Check if the result indicates an error occurred during classification attempt\n",
    "        if \"Error -\" in raw_result_string or \"Skipped:\" in raw_result_string :\n",
    "             # Try to extract the specific error/skip message after the tag\n",
    "             parts = raw_result_string.split(\"Result:\", 1) # Split only once\n",
    "             if len(parts) > 1:\n",
    "                 parsed_classification = parts[1].strip()\n",
    "             else: # If format is unexpected, store the whole raw string as classification\n",
    "                 parsed_classification = raw_result_string\n",
    "        else:\n",
    "            # Attempt to parse the expected format \"Filename: ..., Result: ...\"\n",
    "            try:\n",
    "                # Use partition for safer splitting\n",
    "                _ , sep, classification_part = raw_result_string.partition(\"Result:\")\n",
    "                if sep: # If \"Result:\" was found\n",
    "                    parsed_classification = classification_part.strip()\n",
    "                elif raw_result_string: # If separator not found but there's some text\n",
    "                     print(f\"  Warning: Unexpected format from model for {filename}. Raw: '{raw_result_string}'\")\n",
    "                     parsed_classification = f\"Format Error - Raw: {raw_result_string}\"\n",
    "                # Handle empty raw_result_string (should be caught by error checks ideally)\n",
    "                else:\n",
    "                     parsed_classification = \"Empty Response\"\n",
    "\n",
    "            except Exception as parse_error:\n",
    "                print(f\"  Error parsing result for {filename}: {parse_error}. Raw: '{raw_result_string}'\")\n",
    "                parsed_classification = f\"Parsing Exception - Raw: {raw_result_string}\"\n",
    "\n",
    "        # Append results as a dictionary\n",
    "        structured_results.append({\n",
    "            'filename': filename,\n",
    "            'classification': parsed_classification\n",
    "        })\n",
    "\n",
    "        # Optional: Add a small delay\n",
    "        # time.sleep(1)\n",
    "\n",
    "    print(f\"\\n--- Finished processing {len(image_files)} images ---\")\n",
    "\n",
    "    # --- Create DataFrame and Save to CSV ---\n",
    "    if structured_results:\n",
    "        df = pd.DataFrame(structured_results)\n",
    "\n",
    "        # Save to the writable /kaggle/working/ directory\n",
    "        output_csv_path = os.path.join(\"/kaggle/working/\", output_filename)\n",
    "\n",
    "        try:\n",
    "            df.to_csv(output_csv_path, index=False)\n",
    "            print(f\"\\nResults saved successfully to: {output_csv_path}\")\n",
    "\n",
    "            # Optionally display the first few rows\n",
    "            print(\"\\nFirst 5 results:\")\n",
    "            display(df.head())\n",
    "        except Exception as e:\n",
    "            print(f\"\\nError saving results to CSV: {e}\")\n",
    "    else:\n",
    "        print(\"\\nNo results were generated to save.\")\n",
    "\n",
    "\n",
    "# --- 5. Execution ---\n",
    "\n",
    "# **IMPORTANT:** Adjust the input directory path\n",
    "images_directory = '/kaggle/input/test-images' # ADJUST THIS PATH\n",
    "\n",
    "# Define the desired output CSV filename\n",
    "output_file = 'image_outlier_results.csv'\n",
    "\n",
    "# --- Run the processing and saving function ---\n",
    "process_images_and_save_results(images_directory, output_filename=output_file)"
   ]
  },
  {
   "cell_type": "code",
   "execution_count": 19,
   "id": "34f5038a",
   "metadata": {
    "execution": {
     "iopub.execute_input": "2025-04-20T17:17:01.479065Z",
     "iopub.status.busy": "2025-04-20T17:17:01.478710Z",
     "iopub.status.idle": "2025-04-20T17:17:01.537144Z",
     "shell.execute_reply": "2025-04-20T17:17:01.536080Z"
    },
    "papermill": {
     "duration": 0.070155,
     "end_time": "2025-04-20T17:17:01.538472",
     "exception": false,
     "start_time": "2025-04-20T17:17:01.468317",
     "status": "completed"
    },
    "tags": []
   },
   "outputs": [
    {
     "name": "stdout",
     "output_type": "stream",
     "text": [
      "--- Loading results from: /kaggle/working/image_outlier_results.csv ---\n",
      "--- Image source directory: /kaggle/input/test-images ---\n",
      "\n",
      "Found 10 entries in the results file. Displaying all...\n",
      "\n",
      "--- Displaying: 00004.png ---\n",
      "Classification Result: with outlier\n",
      "Image:\n"
     ]
    },
    {
     "data": {
      "image/png": "[encoded data removed]",
      "text/plain": [
       "<IPython.core.display.Image object>"
      ]
     },
     "metadata": {
      "image/png": {
       "width": 350
      }
     },
     "output_type": "display_data"
    },
    {
     "name": "stdout",
     "output_type": "stream",
     "text": [
      "----------------------------------------\n",
      "\n",
      "--- Displaying: 00023.png ---\n",
      "Classification Result: without outlier\n",
      "Image:\n"
     ]
    },
    {
     "data": {
      "image/png": "[encoded data removed]",
      "text/plain": [
       "<IPython.core.display.Image object>"
      ]
     },
     "metadata": {
      "image/png": {
       "width": 350
      }
     },
     "output_type": "display_data"
    },
    {
     "name": "stdout",
     "output_type": "stream",
     "text": [
      "----------------------------------------\n",
      "\n",
      "--- Displaying: 00003.png ---\n",
      "Classification Result: without outlier\n",
      "Image:\n"
     ]
    },
    {
     "data": {
      "image/png": "[encoded data removed]",
      "text/plain": [
       "<IPython.core.display.Image object>"
      ]
     },
     "metadata": {
      "image/png": {
       "width": 350
      }
     },
     "output_type": "display_data"
    },
    {
     "name": "stdout",
     "output_type": "stream",
     "text": [
      "----------------------------------------\n",
      "\n",
      "--- Displaying: 00018.png ---\n",
      "Classification Result: without outlier\n",
      "Image:\n"
     ]
    },
    {
     "data": {
      "image/png": "[encoded data removed]",
      "text/plain": [
       "<IPython.core.display.Image object>"
      ]
     },
     "metadata": {
      "image/png": {
       "width": 350
      }
     },
     "output_type": "display_data"
    },
    {
     "name": "stdout",
     "output_type": "stream",
     "text": [
      "----------------------------------------\n",
      "\n",
      "--- Displaying: 00016.png ---\n",
      "Classification Result: without outlier\n",
      "Image:\n"
     ]
    },
    {
     "data": {
      "image/png": "[encoded data removed]",
      "text/plain": [
       "<IPython.core.display.Image object>"
      ]
     },
     "metadata": {
      "image/png": {
       "width": 350
      }
     },
     "output_type": "display_data"
    },
    {
     "name": "stdout",
     "output_type": "stream",
     "text": [
      "----------------------------------------\n",
      "\n",
      "--- Displaying: 00017.png ---\n",
      "Classification Result: Error - API Error (ResourceExhausted)\n",
      "Image:\n"
     ]
    },
    {
     "data": {
      "image/png": "[encoded data removed]",
      "text/plain": [
       "<IPython.core.display.Image object>"
      ]
     },
     "metadata": {
      "image/png": {
       "width": 350
      }
     },
     "output_type": "display_data"
    },
    {
     "name": "stdout",
     "output_type": "stream",
     "text": [
      "----------------------------------------\n",
      "\n",
      "--- Displaying: 00007.png ---\n",
      "Classification Result: with outlier\n",
      "Image:\n"
     ]
    },
    {
     "data": {
      "image/png": "[encoded data removed]",
      "text/plain": [
       "<IPython.core.display.Image object>"
      ]
     },
     "metadata": {
      "image/png": {
       "width": 350
      }
     },
     "output_type": "display_data"
    },
    {
     "name": "stdout",
     "output_type": "stream",
     "text": [
      "----------------------------------------\n",
      "\n",
      "--- Displaying: 00029.png ---\n",
      "Classification Result: with outlier\n",
      "Image:\n"
     ]
    },
    {
     "data": {
      "image/png": "[encoded data removed]",
      "text/plain": [
       "<IPython.core.display.Image object>"
      ]
     },
     "metadata": {
      "image/png": {
       "width": 350
      }
     },
     "output_type": "display_data"
    },
    {
     "name": "stdout",
     "output_type": "stream",
     "text": [
      "----------------------------------------\n",
      "\n",
      "--- Displaying: 00013.png ---\n",
      "Classification Result: without outlier\n",
      "Image:\n"
     ]
    },
    {
     "data": {
      "image/png": "[encoded data removed]",
      "text/plain": [
       "<IPython.core.display.Image object>"
      ]
     },
     "metadata": {
      "image/png": {
       "width": 350
      }
     },
     "output_type": "display_data"
    },
    {
     "name": "stdout",
     "output_type": "stream",
     "text": [
      "----------------------------------------\n",
      "\n",
      "--- Displaying: 00021.png ---\n",
      "Classification Result: with outlier\n",
      "Image:\n"
     ]
    },
    {
     "data": {
      "image/png": "[encoded data removed]",
      "text/plain": [
       "<IPython.core.display.Image object>"
      ]
     },
     "metadata": {
      "image/png": {
       "width": 350
      }
     },
     "output_type": "display_data"
    },
    {
     "name": "stdout",
     "output_type": "stream",
     "text": [
      "----------------------------------------\n",
      "\n",
      "--- Finished displaying all images from the results file. ---\n"
     ]
    }
   ],
   "source": [
    "# --- 1. Imports (Ensure they are loaded) ---\n",
    "import os\n",
    "import pandas as pd\n",
    "from IPython.display import display, Image, Markdown\n",
    "import traceback\n",
    "\n",
    "# --- 2. MODIFIED Function Definition ---\n",
    "# Now accepts the DataFrame directly instead of the CSV path\n",
    "\n",
    "def show_image_and_classification_from_df(\n",
    "    filename_to_show: str,\n",
    "    image_directory: str,\n",
    "    results_df: pd.DataFrame, # Accepts the DataFrame\n",
    "    image_width: int = 400\n",
    "    ):\n",
    "    \"\"\"\n",
    "    Displays an image and prints its classification result read from a DataFrame.\n",
    "\n",
    "    Args:\n",
    "        filename_to_show: The name of the image file to display.\n",
    "        image_directory: The path to the directory containing the image files.\n",
    "        results_df: The pandas DataFrame containing 'filename' and 'classification' columns.\n",
    "        image_width: The desired display width for the image in pixels.\n",
    "    \"\"\"\n",
    "    # --- Find Classification in the DataFrame ---\n",
    "    if results_df is None or results_df.empty:\n",
    "        print(\"Error: Results DataFrame is missing or empty.\")\n",
    "        return\n",
    "\n",
    "    file_result = results_df[results_df['filename'] == filename_to_show]\n",
    "\n",
    "    if file_result.empty:\n",
    "        print(f\"--- Skipping: Filename '{filename_to_show}' not found in the results DataFrame. ---\")\n",
    "        return\n",
    "    else:\n",
    "        classification = file_result['classification'].iloc[0]\n",
    "\n",
    "    # --- Construct Image Path and Check Existence ---\n",
    "    full_image_path = os.path.join(image_directory, filename_to_show)\n",
    "\n",
    "    if not os.path.isfile(full_image_path):\n",
    "        print(f\"--- Skipping: Image file not found at '{full_image_path}' for filename '{filename_to_show}'. ---\")\n",
    "        return\n",
    "\n",
    "    # --- Display Image and Print Result ---\n",
    "    print(f\"\\n--- Displaying: {filename_to_show} ---\")\n",
    "    print(f\"Classification Result: {classification}\")\n",
    "\n",
    "    try:\n",
    "        print(\"Image:\")\n",
    "        display(Image(filename=full_image_path, width=image_width))\n",
    "    except Exception as e:\n",
    "        print(f\"\\nError displaying image '{full_image_path}': {e}\")\n",
    "\n",
    "    print(\"-\" * 40) # Separator\n",
    "\n",
    "\n",
    "# --- 3. Execution Block to Show ALL Images from CSV ---\n",
    "\n",
    "# **IMPORTANT:** Adjust these paths based on your setup\n",
    "images_directory = '/kaggle/input/test-images' # ADJUST THIS PATH\n",
    "results_file = '/kaggle/working/image_outlier_results.csv' # Path where results were saved\n",
    "\n",
    "print(f\"--- Loading results from: {results_file} ---\")\n",
    "print(f\"--- Image source directory: {images_directory} ---\")\n",
    "\n",
    "# --- Load the results dataframe ONCE ---\n",
    "try:\n",
    "    df_results = pd.read_csv(results_file)\n",
    "    # Basic validation\n",
    "    if 'filename' not in df_results.columns or 'classification' not in df_results.columns:\n",
    "        raise ValueError(\"CSV file must contain 'filename' and 'classification' columns.\")\n",
    "\n",
    "except FileNotFoundError:\n",
    "    print(f\"\\nError: Results CSV file not found at '{results_file}'\")\n",
    "    print(\"Please ensure the previous step ran successfully and saved the file.\")\n",
    "    df_results = None # Set df to None to prevent loop execution\n",
    "except ValueError as ve:\n",
    "     print(f\"\\nError loading results: {ve}\")\n",
    "     df_results = None\n",
    "except Exception as e:\n",
    "    print(f\"\\nError reading CSV file '{results_file}': {e}\")\n",
    "    df_results = None\n",
    "\n",
    "# --- Loop through the DataFrame and display each image ---\n",
    "if df_results is not None and not df_results.empty:\n",
    "    print(f\"\\nFound {len(df_results)} entries in the results file. Displaying all...\")\n",
    "\n",
    "    # Iterate through each row of the DataFrame\n",
    "    for index, row in df_results.iterrows():\n",
    "        current_filename = row['filename']\n",
    "        # Call the modified function that takes the DataFrame\n",
    "        show_image_and_classification_from_df(\n",
    "            filename_to_show=current_filename,\n",
    "            image_directory=images_directory,\n",
    "            results_df=df_results, # Pass the already loaded DataFrame\n",
    "            image_width=350 # Adjust width as needed\n",
    "        )\n",
    "        # Optional: Add a small pause if output becomes too overwhelming\n",
    "        # time.sleep(0.5)\n",
    "\n",
    "    print(\"\\n--- Finished displaying all images from the results file. ---\")\n",
    "\n",
    "elif df_results is not None and df_results.empty:\n",
    "     print(\"\\nThe results CSV file was loaded but it is empty. No images to display.\")\n",
    "else:\n",
    "     print(\"\\nCould not load results. Cannot display images.\")"
   ]
  },
  {
   "cell_type": "code",
   "execution_count": null,
   "id": "46eb43b5",
   "metadata": {
    "papermill": {
     "duration": 0.013154,
     "end_time": "2025-04-20T17:17:01.563879",
     "exception": false,
     "start_time": "2025-04-20T17:17:01.550725",
     "status": "completed"
    },
    "tags": []
   },
   "outputs": [],
   "source": []
  }
 ],
 "metadata": {
  "colab": {
   "provenance": [],
   "toc_visible": true
  },
  "kaggle": {
   "accelerator": "none",
   "dataSources": [
    {
     "datasetId": 7201581,
     "sourceId": 11489083,
     "sourceType": "datasetVersion"
    }
   ],
   "isGpuEnabled": false,
   "isInternetEnabled": true,
   "language": "python",
   "sourceType": "notebook"
  },
  "kernelspec": {
   "display_name": "Python 3",
   "language": "python",
   "name": "python3"
  },
  "language_info": {
   "codemirror_mode": {
    "name": "ipython",
    "version": 3
   },
   "file_extension": ".py",
   "mimetype": "text/x-python",
   "name": "python",
   "nbconvert_exporter": "python",
   "pygments_lexer": "ipython3",
   "version": "3.11.11"
  },
  "papermill": {
   "default_parameters": {},
   "duration": 187.297769,
   "end_time": "2025-04-20T17:17:04.693168",
   "environment_variables": {},
   "exception": null,
   "input_path": "__notebook__.ipynb",
   "output_path": "__notebook__.ipynb",
   "parameters": {},
   "start_time": "2025-04-20T17:13:57.395399",
   "version": "2.6.0"
  }
 },
 "nbformat": 4,
 "nbformat_minor": 5
}
